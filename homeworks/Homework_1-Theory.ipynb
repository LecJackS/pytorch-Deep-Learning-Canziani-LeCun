{
 "cells": [
  {
   "cell_type": "markdown",
   "metadata": {},
   "source": [
    "# DS-GA 1008: Deep Learning, Spring 2020\n",
    "\n",
    "# Homework Assignment 1\n",
    "\n",
    ">He who learns but does not think is lost.\n",
    ">\n",
    ">He who thinks but does not learn is in great danger.\n",
    ">\n",
    ">Confucius (551 - 479 BC)\n",
    "\n",
    "## 1. Backprop\n",
    "\n",
    "Backpropagation or “backward propagation through errors” is a method which calculates the\n",
    "gradient of the loss function of a neural network with respect to its weights.\n",
    "\n",
    "\n",
    "### 1.1. Affine Module\n",
    "\n",
    "The chain rule is at the heart of backpropagation.\n",
    "\n",
    "Suppose we are given $x ∈ R 2$ and that we use an affine transformation with parameters $W ∈ R 2×2$ and $b ∈ R 2$ defined by:\n",
    "\n",
    "> $$\\mathbf y = \\mathbf {W x} + \\mathbf b$$ \n",
    "> (1)\n",
    "\n",
    "* (a) Suppose an arbitrary cost function $C(y)$ and that we are given the gradient $\\frac {\\partial C}{\\partial y}$.\n",
    "  \n",
    "  Give an expression for $\\frac { \\partial C}{\\partial W}$ and $\\frac { \\partial C}{\\partial b}$ in terms of $\\frac { \\partial C}{\\partial y}$ and $x$ using the chain rule."
   ]
  },
  {
   "cell_type": "markdown",
   "metadata": {},
   "source": [
    "#### Solution:\n",
    "\n",
    "Using the chain rule, we can write an expression for each term as:\n",
    "\n",
    "> $$\\frac {\\partial C}{\\partial \\mathbf W} = \\frac {\\partial C}{\\partial \\mathbf y} \\frac {\\partial \\mathbf y}{\\partial \\mathbf W}$$\n",
    ">\n",
    "> where $\\frac {\\partial \\mathbf y}{\\partial \\mathbf W} = \\mathbf x$\n",
    ">\n",
    "> |Solution|\n",
    "> |---|\n",
    "> |$$\\frac {\\partial C}{\\partial \\mathbf W} = \\frac {\\partial C}{\\partial \\mathbf y} \\mathbf x$$|\n",
    "\n",
    "\n",
    "> $$\\frac {\\partial C}{\\partial \\mathbf b} = \\frac {\\partial C}{\\partial \\mathbf y} \\frac {\\partial \\mathbf y}{\\partial \\mathbf b}$$\n",
    ">\n",
    "> where $\\frac {\\partial \\mathbf y}{\\partial \\mathbf b} = 1$\n",
    ">\n",
    "> |Solution|\n",
    "> |---|\n",
    "> |$$\\frac {\\partial C}{\\partial \\mathbf b} = \\frac {\\partial C}{\\partial \\mathbf y}$$|"
   ]
  },
  {
   "cell_type": "markdown",
   "metadata": {},
   "source": [
    "* (b) If we define a new cost $C_2 (y) = 3 ∗ C(y)$, do we know how our gradients with respect to $W$, $b$ change without knowing the particular form of $C(y)$ or $\\frac {\\partial C}{\\partial y}$?"
   ]
  },
  {
   "cell_type": "markdown",
   "metadata": {},
   "source": [
    "#### Solution\n",
    "\n",
    "From (a), we had:\n",
    "> $$\\frac {\\partial C}{\\partial \\mathbf W} = \\frac {\\partial C}{\\partial \\mathbf y} \\mathbf x$$\n",
    ">\n",
    "> $$\\frac {\\partial C}{\\partial \\mathbf b} = \\frac {\\partial C}{\\partial \\mathbf y}$$\n",
    "\n",
    "If $C_2 (y) = 3 C(y)$\n",
    "\n",
    "> $$\\frac {\\partial C_2}{\\partial \\mathbf W} = \\frac {\\partial C_2}{\\partial \\mathbf C} \\frac {\\partial C}{\\partial \\mathbf y} \\mathbf x$$\n",
    ">\n",
    "> |Solution|\n",
    "> |---|\n",
    "> |$$\\frac {\\partial C_2}{\\partial \\mathbf W} = 3 \\frac {\\partial C}{\\partial \\mathbf y} \\mathbf x$$|\n",
    "\n",
    "> $$\\frac {\\partial C_2}{\\partial \\mathbf b} = \\frac {\\partial C_2}{\\partial \\mathbf C} \\frac {\\partial C}{\\partial \\mathbf y} \\mathbf x$$\n",
    ">\n",
    "> |Solution|\n",
    "> |---|\n",
    "> |$$\\frac {\\partial C_2}{\\partial \\mathbf b} = 3 \\frac {\\partial C}{\\partial \\mathbf y}$$|\n",
    ">"
   ]
  },
  {
   "cell_type": "markdown",
   "metadata": {},
   "source": [
    "### 1.2. Softmax Module\n",
    "\n",
    "The **softmax expression** is at the crux of **multi-class classification**.\n",
    "\n",
    "After receiving $K$ unconstrained values in the form of a vector $x \\in R^K$, the softmax function **normalizes** these values to $K$ positive values that all **sum to 1**.\n",
    "\n",
    "The softmax is defined as\n",
    "> $$\\mathbf y = softmax_\\beta (\\mathbf x)$$\n",
    ">\n",
    "> $$y_k = \\frac{exp(\\beta x_k)}{\\sum_n exp(\\beta x_n)}$$\n",
    ">(2)\n",
    ">\n",
    "> where\n",
    "> \n",
    "> $\\sum_y^K y_k = 1$,\n",
    ">\n",
    "> $y_k \\leq 0$ for all $k$,\n",
    ">\n",
    "> $exp(z) = e^z$\n",
    "\n",
    "We usually let the softmax input $x \\in R^K$ be the output of a preceding module (some feature representation) whose input is a **datapoint** $d$.\n",
    "\n",
    "Then we interpret $y_k$ as the **probability** that **datapoint** $d$ belongs to **class** $k$.\n",
    "\n",
    "Since this module can be connected to others in backprop using the chain rule, we just need\n",
    "to compute the softmax's gradient in isolation.\n",
    "\n",
    "What is the expression for $\\frac {\\partial y_i}{\\partial x_j}$ ?\n",
    "\n",
    "*(Hint: Answer differs when $i = j$ and $i \\neq j$).*"
   ]
  },
  {
   "cell_type": "markdown",
   "metadata": {},
   "source": [
    "#### Solution:\n",
    "\n",
    "Lets rewrite the softmax function as:\n",
    "\n",
    "> $$y_i = \\frac{e^{\\beta x_i}}{\\sum_{j=1}^K e^{\\beta x_j}}$$\n",
    ">\n",
    "> $$= \\frac{e^{\\beta x_i}}{e^{\\beta x_1} + e^{\\beta x_2}+ \\dots + e^{\\beta x_j} + \\dots + e^{\\beta x_{K-1}} + e^{\\beta x_K}}$$"
   ]
  },
  {
   "cell_type": "markdown",
   "metadata": {},
   "source": [
    "Now it's more clear that if we want to take $\\frac {\\partial y_i}{\\partial x_j}$, we have two cases:\n",
    "\n",
    "1. When $i=j \\implies$ we have\n",
    "   \n",
    "   * **one variable in the numerator**: $e^{\\beta x_i}$\n",
    "   \n",
    "   * and another one in the **denominator**: $e^{\\beta x_j}$\n",
    "\n",
    "\n",
    "2. When $i \\neq j \\implies$ we only have one variable in the denominator: $e^{\\beta x_j}$\n",
    "   \n",
    "   Because we are taking the partial derivative w.r.t $x_j$, which is different from $x_i$.\n"
   ]
  },
  {
   "cell_type": "markdown",
   "metadata": {},
   "source": [
    "|Solution|\n",
    "|--|\n",
    "|$$\\frac {\\partial y_i}{\\partial x_j} = \\begin{cases} \\\n",
    "y_i (1 - y_i) & \\text{if} & i = j \\\\\n",
    "-y_i y_j & \\text{if} & i \\neq j \\\\\n",
    "\\end{cases}$$|"
   ]
  },
  {
   "cell_type": "markdown",
   "metadata": {},
   "source": [
    "**Derivation:**\n",
    "\n",
    "*TODO: write it cleaner, without errors*"
   ]
  },
  {
   "cell_type": "markdown",
   "metadata": {},
   "source": [
    "![](./img/hw1-sigmoid-partial-deriv.jpg)"
   ]
  },
  {
   "cell_type": "markdown",
   "metadata": {},
   "source": []
  }
 ],
 "metadata": {
  "kernelspec": {
   "display_name": "Python 3",
   "language": "python",
   "name": "python3"
  },
  "language_info": {
   "codemirror_mode": {
    "name": "ipython",
    "version": 3
   },
   "file_extension": ".py",
   "mimetype": "text/x-python",
   "name": "python",
   "nbconvert_exporter": "python",
   "pygments_lexer": "ipython3",
   "version": "3.8.1"
  }
 },
 "nbformat": 4,
 "nbformat_minor": 4
}
