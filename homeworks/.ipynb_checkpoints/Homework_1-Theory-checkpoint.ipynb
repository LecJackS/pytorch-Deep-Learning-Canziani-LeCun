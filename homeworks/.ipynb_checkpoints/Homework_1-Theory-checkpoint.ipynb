{
 "cells": [
  {
   "cell_type": "markdown",
   "metadata": {},
   "source": [
    "# DS-GA 1008: Deep Learning, Spring 2020\n",
    "\n",
    "# Homework Assignment 1\n",
    "\n",
    ">He who learns but does not think is lost.\n",
    ">\n",
    ">He who thinks but does not learn is in great danger.\n",
    ">\n",
    ">Confucius (551 - 479 BC)\n",
    "\n",
    "## 1. Backprop\n",
    "\n",
    "Backpropagation or “backward propagation through errors” is a method which calculates the\n",
    "gradient of the loss function of a neural network with respect to its weights.\n",
    "\n",
    "\n",
    "### 1.1. Affine Module\n",
    "\n",
    "The chain rule is at the heart of backpropagation.\n",
    "\n",
    "Suppose we are given $x ∈ R 2$ and that we use an affine transformation with parameters $W ∈ R 2×2$ and $b ∈ R 2$ defined by:\n",
    "\n",
    "> $$\\mathbf y = \\mathbf {W x} + \\mathbf b$$ \n",
    "> (1)\n",
    "\n",
    "* (a) Suppose an arbitrary cost function $C(y)$ and that we are given the gradient $\\frac {\\partial C}{\\partial y}$.\n",
    "  \n",
    "  Give an expression for $\\frac { \\partial C}{\\partial W}$ and $\\frac { \\partial C}{\\partial b}$ in terms of $\\frac { \\partial C}{\\partial y}$ and $x$ using the chain rule.\n",
    "\n",
    "\n",
    "* (b) If we define a new cost $C_2 (y) = 3 ∗ C(y)$, do we know how our gradients with respect to $W$, $b$ change without knowing the particular form of $C(y)$ or $\\frac {\\partial C}{\\partial y}$?"
   ]
  },
  {
   "cell_type": "code",
   "execution_count": null,
   "metadata": {},
   "outputs": [],
   "source": []
  }
 ],
 "metadata": {
  "kernelspec": {
   "display_name": "Python 3",
   "language": "python",
   "name": "python3"
  },
  "language_info": {
   "codemirror_mode": {
    "name": "ipython",
    "version": 3
   },
   "file_extension": ".py",
   "mimetype": "text/x-python",
   "name": "python",
   "nbconvert_exporter": "python",
   "pygments_lexer": "ipython3",
   "version": "3.8.1"
  }
 },
 "nbformat": 4,
 "nbformat_minor": 4
}
