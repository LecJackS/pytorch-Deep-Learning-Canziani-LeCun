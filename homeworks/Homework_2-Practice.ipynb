{
 "cells": [
  {
   "cell_type": "code",
   "execution_count": 133,
   "metadata": {
    "colab": {},
    "colab_type": "code",
    "id": "n1rRYMF_okBY"
   },
   "outputs": [],
   "source": [
    "# Import dependencies\n",
    "import torch\n",
    "import torch.nn as nn\n",
    "from plot_lib import set_default, show_scatterplot, plot_bases\n",
    "import matplotlib.pyplot as plt\n",
    "import random\n",
    "import numpy as np"
   ]
  },
  {
   "cell_type": "code",
   "execution_count": 134,
   "metadata": {
    "colab": {},
    "colab_type": "code",
    "id": "YkaTWgU3okBc"
   },
   "outputs": [],
   "source": [
    "# Set up your device \n",
    "cuda = torch.cuda.is_available()\n",
    "device = torch.device(\"cuda:0\" if cuda else \"cpu\")\n",
    "device = \"cpu\""
   ]
  },
  {
   "cell_type": "code",
   "execution_count": 135,
   "metadata": {
    "colab": {},
    "colab_type": "code",
    "id": "_zcS-H-mokBe"
   },
   "outputs": [],
   "source": [
    "# Set up random seed to 1008. Do not change the random seed.\n",
    "# Yes, these are all necessary when you run experiments!\n",
    "seed = 1008 # but I want to use 42! :(\n",
    "random.seed(seed)\n",
    "np.random.seed(seed)\n",
    "torch.manual_seed(seed)\n",
    "if cuda:\n",
    "    torch.cuda.manual_seed(seed)\n",
    "    torch.cuda.manual_seed_all(seed)\n",
    "    torch.backends.cudnn.benchmark = False\n",
    "    torch.backends.cudnn.deterministic = True"
   ]
  },
  {
   "cell_type": "code",
   "execution_count": 136,
   "metadata": {
    "colab": {},
    "colab_type": "code",
    "id": "64jNfD5UokBh"
   },
   "outputs": [],
   "source": [
    "# Define data generating functions\n",
    "def quadratic_data_generator(data_size):\n",
    "    # f(x) = y = x^2 + 4x - 3\n",
    "    # generate an input tensor of size data_size with torch.randn\n",
    "    x = torch.randn(data_size, 1) - 2   \n",
    "    x = x.to(device)\n",
    "    # TODO\n",
    "    y = x**2 + 4*x - 3\n",
    "    # placeholder\n",
    "    #y = torch.ones(data_size,1)\n",
    "    return x,y\n",
    "\n",
    "def cubic_data_generator(data_size=100):\n",
    "    # f(x) = y = x^3 + 4x^2 - 3\n",
    "    # generate an input tensor of size data_size with torch.randn\n",
    "    x = torch.randn(data_size, 1) - 2   \n",
    "    x = x.to(device)\n",
    "    # TODO\n",
    "    y = x**3 + 4*x**2 - 3\n",
    "    # placeholder\n",
    "    #y = torch.ones(data_size, 1)\n",
    "    return x, y"
   ]
  },
  {
   "cell_type": "code",
   "execution_count": 138,
   "metadata": {
    "colab": {},
    "colab_type": "code",
    "id": "_zcCkt40okBj"
   },
   "outputs": [
    {
     "data": {
      "image/png": "[encoded data removed]",
      "text/plain": [
       "<Figure size 432x288 with 1 Axes>"
      ]
     },
     "metadata": {
      "needs_background": "light"
     },
     "output_type": "display_data"
    }
   ],
   "source": [
    "# Generate the data with 128 datapoints\n",
    "x, y = quadratic_data_generator(128)\n",
    "plt.scatter(x, y)\n",
    "plt.show()"
   ]
  },
  {
   "cell_type": "code",
   "execution_count": null,
   "metadata": {},
   "outputs": [],
   "source": []
  },
  {
   "cell_type": "code",
   "execution_count": 139,
   "metadata": {
    "colab": {},
    "colab_type": "code",
    "id": "rn1TqPoHokBt"
   },
   "outputs": [],
   "source": [
    "# Define a Linear Classifier with a single linear layer and no non-linearity\n",
    "# (no hidden layer)\n",
    "class Linear_0H(nn.Module):\n",
    "    def __init__(self):\n",
    "        super().__init__()\n",
    "\n",
    "        # TODO\n",
    "        n_in_dim  = 1\n",
    "        n_out_dim = 1\n",
    "        self.classifier = nn.Sequential(nn.Linear(n_in_dim, n_out_dim, bias=True))\n",
    "\n",
    "    def forward(self, x):\n",
    "        return self.classifier(x)"
   ]
  },
  {
   "cell_type": "code",
   "execution_count": 140,
   "metadata": {
    "colab": {},
    "colab_type": "code",
    "id": "In6FSCPzokBv"
   },
   "outputs": [],
   "source": [
    "# Define a Linear Classifier with a single hidden layer of size 5 and ReLU non-linearity\n",
    "class Linear_1H(nn.Module):\n",
    "    def __init__(self):\n",
    "        super().__init__()\n",
    "\n",
    "        # TODO\n",
    "        n_in_dim  = 1\n",
    "        n_hidden  = 5\n",
    "        n_out_dim = 1\n",
    "        self.classifier = nn.Sequential(nn.Linear(n_in_dim, n_hidden, bias=True),\n",
    "                                        nn.ReLU(),\n",
    "                                        nn.Linear(n_hidden, n_out_dim, bias=True))\n",
    "\n",
    "    def forward(self, x):\n",
    "        return self.classifier(x)"
   ]
  },
  {
   "cell_type": "code",
   "execution_count": 141,
   "metadata": {
    "colab": {},
    "colab_type": "code",
    "id": "pzRNs4M1okBx"
   },
   "outputs": [],
   "source": [
    "# Define a Linear Classifier with a two hidden layers of size 5 and ReLU non-linearity\n",
    "class Linear_2H(nn.Module):\n",
    "    def __init__(self):\n",
    "        super().__init__()\n",
    "\n",
    "        # TODO\n",
    "        n_in_dim  = 1\n",
    "        n_hidden  = 5\n",
    "        n_out_dim = 1\n",
    "        self.classifier = nn.Sequential(nn.Linear(n_in_dim, n_hidden, bias=True),\n",
    "                                        nn.ReLU(),\n",
    "                                        nn.Linear(n_hidden, n_hidden, bias=True),\n",
    "                                        nn.ReLU(),\n",
    "                                        nn.Linear(n_hidden, n_out_dim, bias=True))\n",
    "\n",
    "    def forward(self, x):\n",
    "        return self.classifier(x)"
   ]
  },
  {
   "cell_type": "code",
   "execution_count": 142,
   "metadata": {
    "colab": {},
    "colab_type": "code",
    "id": "M_vRsu4BokBz"
   },
   "outputs": [],
   "source": [
    "'''\n",
    "TODO: Training function\n",
    "\n",
    "Hint: look at some example pytorch tutorials to learn how to\n",
    "    - initialize optimizers\n",
    "    - zero gradient\n",
    "    - backprop the loss\n",
    "    - step the gradient\n",
    "\n",
    "\n",
    "Note: This is full batch. We compute forward on whole x,y.\n",
    "No need for dataloaders nor loop over batches. \n",
    "Just pass all of x to model's forward pass.\n",
    "'''\n",
    "def train(model, epochs, x, y):\n",
    "    \n",
    "    # Set model to training mode\n",
    "    model.train()\n",
    "    \n",
    "    # TODO: Define MSE loss function\n",
    "    criterion = torch.nn.MSELoss()\n",
    "    \n",
    "    # TODO: Define the SGD optimizer with learning rate 0.01\n",
    "    optimizer = torch.optim.SGD(model.parameters(), lr=0.01)\n",
    "    \n",
    "    for epoch in range(epochs):\n",
    "        \n",
    "        # TODO: Forward data through model to predict y\n",
    "        y_pred = model(x)\n",
    "        \n",
    "        # TODO: Compute loss in terms of predicted and true y\n",
    "        loss = criterion(y_pred, y)\n",
    "\n",
    "        # TODO: Zero gradient\n",
    "        optimizer.zero_grad()\n",
    "        \n",
    "        # TODO: call backward on loss\n",
    "        loss.backward()\n",
    "        \n",
    "        # TODO: step the optimizer\n",
    "        optimizer.step()\n",
    "        \n",
    "        # every 100 epochs, print\n",
    "        if (epoch+1) % 100 == 0:\n",
    "            print('Epoch {} loss: {}'.format(epoch+1, loss.item()))\n",
    "            \n",
    "    # return y_pred without gradient information, for plotting\n",
    "    return y_pred.detach()"
   ]
  },
  {
   "cell_type": "code",
   "execution_count": 143,
   "metadata": {
    "colab": {},
    "colab_type": "code",
    "id": "lx_EMETookB1",
    "outputId": "91eb5402-4009-437b-a601-ff6b73dcd5d7"
   },
   "outputs": [
    {
     "name": "stdout",
     "output_type": "stream",
     "text": [
      "Epoch 100 loss: 3.3711137771606445\n",
      "Epoch 200 loss: 2.3772685527801514\n",
      "Epoch 300 loss: 1.844477653503418\n",
      "Epoch 400 loss: 1.5588537454605103\n",
      "Epoch 500 loss: 1.40573251247406\n",
      "Epoch 600 loss: 1.3236454725265503\n",
      "Epoch 700 loss: 1.2796399593353271\n",
      "Epoch 800 loss: 1.2560487985610962\n",
      "Epoch 900 loss: 1.2434017658233643\n",
      "Epoch 1000 loss: 1.2366219758987427\n",
      "Epoch 1100 loss: 1.2329871654510498\n",
      "Epoch 1200 loss: 1.2310388088226318\n",
      "Epoch 1300 loss: 1.2299941778182983\n",
      "Epoch 1400 loss: 1.2294342517852783\n",
      "Epoch 1500 loss: 1.2291340827941895\n",
      "Epoch 1600 loss: 1.2289732694625854\n",
      "Epoch 1700 loss: 1.2288868427276611\n",
      "Epoch 1800 loss: 1.2288405895233154\n",
      "Epoch 1900 loss: 1.2288159132003784\n",
      "Epoch 2000 loss: 1.2288024425506592\n",
      "Epoch 2100 loss: 1.2287952899932861\n",
      "Epoch 2200 loss: 1.22879159450531\n",
      "Epoch 2300 loss: 1.2287894487380981\n",
      "Epoch 2400 loss: 1.2287884950637817\n",
      "Epoch 2500 loss: 1.228787899017334\n",
      "Epoch 2600 loss: 1.2287874221801758\n",
      "Epoch 2700 loss: 1.2287873029708862\n",
      "Epoch 2800 loss: 1.2287871837615967\n",
      "Epoch 2900 loss: 1.2287873029708862\n",
      "Epoch 3000 loss: 1.2287873029708862\n",
      "Epoch 3100 loss: 1.2287871837615967\n",
      "Epoch 3200 loss: 1.2287871837615967\n",
      "Epoch 3300 loss: 1.2287871837615967\n",
      "Epoch 3400 loss: 1.2287871837615967\n",
      "Epoch 3500 loss: 1.2287871837615967\n",
      "Epoch 3600 loss: 1.2287870645523071\n",
      "Epoch 3700 loss: 1.2287871837615967\n",
      "Epoch 3800 loss: 1.2287871837615967\n",
      "Epoch 3900 loss: 1.2287871837615967\n",
      "Epoch 4000 loss: 1.2287871837615967\n",
      "Epoch 4100 loss: 1.2287871837615967\n",
      "Epoch 4200 loss: 1.2287871837615967\n",
      "Epoch 4300 loss: 1.2287871837615967\n",
      "Epoch 4400 loss: 1.2287871837615967\n",
      "Epoch 4500 loss: 1.2287871837615967\n",
      "Epoch 4600 loss: 1.2287871837615967\n",
      "Epoch 4700 loss: 1.2287871837615967\n",
      "Epoch 4800 loss: 1.2287871837615967\n",
      "Epoch 4900 loss: 1.2287871837615967\n",
      "Epoch 5000 loss: 1.2287871837615967\n"
     ]
    },
    {
     "data": {
      "image/png": "[encoded data removed]",
      "text/plain": [
       "<Figure size 432x288 with 1 Axes>"
      ]
     },
     "metadata": {
      "needs_background": "light"
     },
     "output_type": "display_data"
    }
   ],
   "source": [
    "# 0H model on quadratic data\n",
    "model = Linear_0H()\n",
    "y_pred = train(model, epochs=5000, x=x, y=y)\n",
    "\n",
    "# Plot predictions vs actual data\n",
    "plt.scatter(x, y)\n",
    "plt.scatter(x, y_pred)\n",
    "plt.show()"
   ]
  },
  {
   "cell_type": "code",
   "execution_count": 144,
   "metadata": {
    "colab": {},
    "colab_type": "code",
    "id": "m6HIEi6fokB-",
    "outputId": "74b3a7ef-1cc1-4629-e6ec-fb0594a1cb98"
   },
   "outputs": [
    {
     "name": "stdout",
     "output_type": "stream",
     "text": [
      "Epoch 100 loss: 1.8421375751495361\n",
      "Epoch 200 loss: 0.8967396020889282\n",
      "Epoch 300 loss: 0.6937336325645447\n",
      "Epoch 400 loss: 0.5439189672470093\n",
      "Epoch 500 loss: 0.421184241771698\n",
      "Epoch 600 loss: 0.32466602325439453\n",
      "Epoch 700 loss: 0.2539372742176056\n",
      "Epoch 800 loss: 0.20531223714351654\n",
      "Epoch 900 loss: 0.17387786507606506\n",
      "Epoch 1000 loss: 0.15422366559505463\n",
      "Epoch 1100 loss: 0.14211899042129517\n",
      "Epoch 1200 loss: 0.13478784263134003\n",
      "Epoch 1300 loss: 0.13035809993743896\n",
      "Epoch 1400 loss: 0.12761284410953522\n",
      "Epoch 1500 loss: 0.1259051114320755\n",
      "Epoch 1600 loss: 0.12483936548233032\n",
      "Epoch 1700 loss: 0.12417392432689667\n",
      "Epoch 1800 loss: 0.12375792860984802\n",
      "Epoch 1900 loss: 0.12349807471036911\n",
      "Epoch 2000 loss: 0.1233353391289711\n",
      "Epoch 2100 loss: 0.12323378771543503\n",
      "Epoch 2200 loss: 0.12317024171352386\n",
      "Epoch 2300 loss: 0.12313047796487808\n",
      "Epoch 2400 loss: 0.12310560792684555\n",
      "Epoch 2500 loss: 0.12309005856513977\n",
      "Epoch 2600 loss: 0.12308037281036377\n",
      "Epoch 2700 loss: 0.12307433784008026\n",
      "Epoch 2800 loss: 0.12307056784629822\n",
      "Epoch 2900 loss: 0.1230681911110878\n",
      "Epoch 3000 loss: 0.12306669354438782\n",
      "Epoch 3100 loss: 0.12306573987007141\n",
      "Epoch 3200 loss: 0.12306519597768784\n",
      "Epoch 3300 loss: 0.1230647936463356\n",
      "Epoch 3400 loss: 0.12306459993124008\n",
      "Epoch 3500 loss: 0.12306441366672516\n",
      "Epoch 3600 loss: 0.12306438386440277\n",
      "Epoch 3700 loss: 0.12306429445743561\n",
      "Epoch 3800 loss: 0.12306427955627441\n",
      "Epoch 3900 loss: 0.12306422740221024\n",
      "Epoch 4000 loss: 0.12306419759988785\n",
      "Epoch 4100 loss: 0.12306425720453262\n",
      "Epoch 4200 loss: 0.12306421250104904\n",
      "Epoch 4300 loss: 0.12306421995162964\n",
      "Epoch 4400 loss: 0.12306421250104904\n",
      "Epoch 4500 loss: 0.12306422740221024\n",
      "Epoch 4600 loss: 0.12306424230337143\n",
      "Epoch 4700 loss: 0.12306419759988785\n",
      "Epoch 4800 loss: 0.12306423485279083\n",
      "Epoch 4900 loss: 0.12306421995162964\n",
      "Epoch 5000 loss: 0.12306422740221024\n"
     ]
    },
    {
     "data": {
      "image/png": "[encoded data removed]",
      "text/plain": [
       "<Figure size 432x288 with 1 Axes>"
      ]
     },
     "metadata": {
      "needs_background": "light"
     },
     "output_type": "display_data"
    }
   ],
   "source": [
    "# 1H model on quadratic data\n",
    "model = Linear_1H()\n",
    "y_pred = train(model, epochs=5000, x=x, y=y)\n",
    "plt.scatter(x, y)\n",
    "plt.scatter(x, y_pred)\n",
    "plt.show()"
   ]
  },
  {
   "cell_type": "code",
   "execution_count": 145,
   "metadata": {
    "colab": {},
    "colab_type": "code",
    "id": "_j-_jgS2okCC",
    "outputId": "9319d725-cb7c-4c39-f3fe-d80e1577e150"
   },
   "outputs": [
    {
     "name": "stdout",
     "output_type": "stream",
     "text": [
      "Epoch 100 loss: 0.8756209015846252\n",
      "Epoch 200 loss: 0.49808043241500854\n",
      "Epoch 300 loss: 0.25652876496315\n",
      "Epoch 400 loss: 0.5319381952285767\n",
      "Epoch 500 loss: 0.3199235200881958\n",
      "Epoch 600 loss: 0.183993399143219\n",
      "Epoch 700 loss: 0.10868699848651886\n",
      "Epoch 800 loss: 0.07719291746616364\n",
      "Epoch 900 loss: 0.05209778621792793\n",
      "Epoch 1000 loss: 0.05052643269300461\n",
      "Epoch 1100 loss: 0.04445529356598854\n",
      "Epoch 1200 loss: 0.041218891739845276\n",
      "Epoch 1300 loss: 0.03902701288461685\n",
      "Epoch 1400 loss: 0.03643965721130371\n",
      "Epoch 1500 loss: 0.03455323353409767\n",
      "Epoch 1600 loss: 0.03306347504258156\n",
      "Epoch 1700 loss: 0.0319783017039299\n",
      "Epoch 1800 loss: 0.031131364405155182\n",
      "Epoch 1900 loss: 0.03053835779428482\n",
      "Epoch 2000 loss: 0.030102213844656944\n",
      "Epoch 2100 loss: 0.029519004747271538\n",
      "Epoch 2200 loss: 0.02889963798224926\n",
      "Epoch 2300 loss: 0.027991607785224915\n",
      "Epoch 2400 loss: 0.02729787863790989\n",
      "Epoch 2500 loss: 0.026801299303770065\n",
      "Epoch 2600 loss: 0.02645965851843357\n",
      "Epoch 2700 loss: 0.026210550218820572\n",
      "Epoch 2800 loss: 0.02592598833143711\n",
      "Epoch 2900 loss: 0.025370445102453232\n",
      "Epoch 3000 loss: 0.025002622976899147\n",
      "Epoch 3100 loss: 0.024675393477082253\n",
      "Epoch 3200 loss: 0.024443812668323517\n",
      "Epoch 3300 loss: 0.024147609248757362\n",
      "Epoch 3400 loss: 0.02390541508793831\n",
      "Epoch 3500 loss: 0.023721707984805107\n",
      "Epoch 3600 loss: 0.0235767662525177\n",
      "Epoch 3700 loss: 0.0234588123857975\n",
      "Epoch 3800 loss: 0.02336101047694683\n",
      "Epoch 3900 loss: 0.02327693998813629\n",
      "Epoch 4000 loss: 0.023189803585410118\n",
      "Epoch 4100 loss: 0.023116042837500572\n",
      "Epoch 4200 loss: 0.023054752498865128\n",
      "Epoch 4300 loss: 0.02298101782798767\n",
      "Epoch 4400 loss: 0.022911353036761284\n",
      "Epoch 4500 loss: 0.022855417802929878\n",
      "Epoch 4600 loss: 0.02278323657810688\n",
      "Epoch 4700 loss: 0.02271973341703415\n",
      "Epoch 4800 loss: 0.02240421064198017\n",
      "Epoch 4900 loss: 0.022253476083278656\n",
      "Epoch 5000 loss: 0.0221363827586174\n"
     ]
    },
    {
     "data": {
      "image/png": "[encoded data removed]",
      "text/plain": [
       "<Figure size 432x288 with 1 Axes>"
      ]
     },
     "metadata": {
      "needs_background": "light"
     },
     "output_type": "display_data"
    }
   ],
   "source": [
    "# 2H model on quadratic data\n",
    "model = Linear_2H()\n",
    "y_pred = train(model, epochs=5000, x=x, y=y)\n",
    "plt.scatter(x, y)\n",
    "plt.scatter(x, y_pred)\n",
    "plt.show()"
   ]
  },
  {
   "cell_type": "code",
   "execution_count": 146,
   "metadata": {
    "colab": {},
    "colab_type": "code",
    "id": "e6P6Ta2ookCF"
   },
   "outputs": [],
   "source": [
    "# Generate cubic data with 128 data points\n",
    "x, y = cubic_data_generator(128)"
   ]
  },
  {
   "cell_type": "code",
   "execution_count": 147,
   "metadata": {
    "colab": {},
    "colab_type": "code",
    "id": "JPGQsaiVokCI",
    "outputId": "074f4aa8-d004-4b76-ccd6-73e230e717f9"
   },
   "outputs": [
    {
     "name": "stdout",
     "output_type": "stream",
     "text": [
      "Epoch 100 loss: 11.475406646728516\n",
      "Epoch 200 loss: 11.475062370300293\n",
      "Epoch 300 loss: 11.474907875061035\n",
      "Epoch 400 loss: 11.474836349487305\n",
      "Epoch 500 loss: 11.47480583190918\n",
      "Epoch 600 loss: 11.474791526794434\n",
      "Epoch 700 loss: 11.474785804748535\n",
      "Epoch 800 loss: 11.474782943725586\n",
      "Epoch 900 loss: 11.474781036376953\n",
      "Epoch 1000 loss: 11.474780082702637\n",
      "Epoch 1100 loss: 11.474781036376953\n",
      "Epoch 1200 loss: 11.47477912902832\n",
      "Epoch 1300 loss: 11.474780082702637\n",
      "Epoch 1400 loss: 11.474780082702637\n",
      "Epoch 1500 loss: 11.474781036376953\n",
      "Epoch 1600 loss: 11.474780082702637\n",
      "Epoch 1700 loss: 11.474780082702637\n",
      "Epoch 1800 loss: 11.47477912902832\n",
      "Epoch 1900 loss: 11.474780082702637\n",
      "Epoch 2000 loss: 11.474780082702637\n",
      "Epoch 2100 loss: 11.474780082702637\n",
      "Epoch 2200 loss: 11.47477912902832\n",
      "Epoch 2300 loss: 11.474780082702637\n",
      "Epoch 2400 loss: 11.47477912902832\n",
      "Epoch 2500 loss: 11.47477912902832\n",
      "Epoch 2600 loss: 11.47477912902832\n",
      "Epoch 2700 loss: 11.47477912902832\n",
      "Epoch 2800 loss: 11.47477912902832\n",
      "Epoch 2900 loss: 11.47477912902832\n",
      "Epoch 3000 loss: 11.47477912902832\n",
      "Epoch 3100 loss: 11.47477912902832\n",
      "Epoch 3200 loss: 11.47477912902832\n",
      "Epoch 3300 loss: 11.47477912902832\n",
      "Epoch 3400 loss: 11.47477912902832\n",
      "Epoch 3500 loss: 11.47477912902832\n",
      "Epoch 3600 loss: 11.47477912902832\n",
      "Epoch 3700 loss: 11.47477912902832\n",
      "Epoch 3800 loss: 11.47477912902832\n",
      "Epoch 3900 loss: 11.47477912902832\n",
      "Epoch 4000 loss: 11.47477912902832\n",
      "Epoch 4100 loss: 11.47477912902832\n",
      "Epoch 4200 loss: 11.47477912902832\n",
      "Epoch 4300 loss: 11.47477912902832\n",
      "Epoch 4400 loss: 11.47477912902832\n",
      "Epoch 4500 loss: 11.47477912902832\n",
      "Epoch 4600 loss: 11.47477912902832\n",
      "Epoch 4700 loss: 11.47477912902832\n",
      "Epoch 4800 loss: 11.47477912902832\n",
      "Epoch 4900 loss: 11.47477912902832\n",
      "Epoch 5000 loss: 11.47477912902832\n"
     ]
    },
    {
     "data": {
      "image/png": "[encoded data removed]",
      "text/plain": [
       "<Figure size 432x288 with 1 Axes>"
      ]
     },
     "metadata": {
      "needs_background": "light"
     },
     "output_type": "display_data"
    }
   ],
   "source": [
    "# 0H model on cubic data\n",
    "model = Linear_0H()\n",
    "y_pred = train(model, epochs=5000, x=x, y=y)\n",
    "plt.scatter(x, y)\n",
    "plt.scatter(x, y_pred)\n",
    "plt.show()"
   ]
  },
  {
   "cell_type": "code",
   "execution_count": 148,
   "metadata": {
    "colab": {},
    "colab_type": "code",
    "id": "68JxHOz8okCL",
    "outputId": "92564c1f-b02f-4e2d-ec15-3177a63733ee"
   },
   "outputs": [
    {
     "name": "stdout",
     "output_type": "stream",
     "text": [
      "Epoch 100 loss: 11.065258979797363\n",
      "Epoch 200 loss: 10.081028938293457\n",
      "Epoch 300 loss: 9.14636516571045\n",
      "Epoch 400 loss: 8.296001434326172\n",
      "Epoch 500 loss: 7.267083644866943\n",
      "Epoch 600 loss: 5.939031600952148\n",
      "Epoch 700 loss: 5.042836666107178\n",
      "Epoch 800 loss: 4.616409778594971\n",
      "Epoch 900 loss: 4.3060102462768555\n",
      "Epoch 1000 loss: 4.031953811645508\n",
      "Epoch 1100 loss: 3.7845988273620605\n",
      "Epoch 1200 loss: 5.369885444641113\n",
      "Epoch 1300 loss: 4.17922830581665\n",
      "Epoch 1400 loss: 4.036187171936035\n",
      "Epoch 1500 loss: 4.892762660980225\n",
      "Epoch 1600 loss: 3.6559035778045654\n",
      "Epoch 1700 loss: 3.6704068183898926\n",
      "Epoch 1800 loss: 3.533285617828369\n",
      "Epoch 1900 loss: 4.857235431671143\n",
      "Epoch 2000 loss: 3.3565783500671387\n",
      "Epoch 2100 loss: 3.274815797805786\n",
      "Epoch 2200 loss: 4.147426605224609\n",
      "Epoch 2300 loss: 3.217343330383301\n",
      "Epoch 2400 loss: 3.8943591117858887\n",
      "Epoch 2500 loss: 4.2257609367370605\n",
      "Epoch 2600 loss: 2.9315810203552246\n",
      "Epoch 2700 loss: 4.04612922668457\n",
      "Epoch 2800 loss: 3.864124059677124\n",
      "Epoch 2900 loss: 3.76261568069458\n",
      "Epoch 3000 loss: 3.77040696144104\n",
      "Epoch 3100 loss: 3.6837167739868164\n",
      "Epoch 3200 loss: 3.5574073791503906\n",
      "Epoch 3300 loss: 3.6343867778778076\n",
      "Epoch 3400 loss: 3.538583278656006\n",
      "Epoch 3500 loss: 3.3501763343811035\n",
      "Epoch 3600 loss: 3.456780195236206\n",
      "Epoch 3700 loss: 3.5096607208251953\n",
      "Epoch 3800 loss: 3.4167778491973877\n",
      "Epoch 3900 loss: 3.3842599391937256\n",
      "Epoch 4000 loss: 3.3540303707122803\n",
      "Epoch 4100 loss: 3.3255984783172607\n",
      "Epoch 4200 loss: 3.298917293548584\n",
      "Epoch 4300 loss: 3.273897647857666\n",
      "Epoch 4400 loss: 3.2505080699920654\n",
      "Epoch 4500 loss: 3.2286996841430664\n",
      "Epoch 4600 loss: 3.205737590789795\n",
      "Epoch 4700 loss: 3.1873626708984375\n",
      "Epoch 4800 loss: 3.1709299087524414\n",
      "Epoch 4900 loss: 3.1538314819335938\n",
      "Epoch 5000 loss: 3.139382839202881\n"
     ]
    },
    {
     "data": {
      "image/png": "[encoded data removed]",
      "text/plain": [
       "<Figure size 432x288 with 1 Axes>"
      ]
     },
     "metadata": {
      "needs_background": "light"
     },
     "output_type": "display_data"
    }
   ],
   "source": [
    "# 1H model on cubic data\n",
    "model = Linear_1H()\n",
    "y_pred = train(model, epochs=5000, x=x, y=y)\n",
    "plt.scatter(x, y)\n",
    "plt.scatter(x, y_pred)\n",
    "plt.show()"
   ]
  },
  {
   "cell_type": "code",
   "execution_count": 149,
   "metadata": {
    "colab": {},
    "colab_type": "code",
    "id": "zQCOjn_AokCP",
    "outputId": "822feb80-83b1-4a20-9fb4-776a69655cc5"
   },
   "outputs": [
    {
     "name": "stdout",
     "output_type": "stream",
     "text": [
      "Epoch 100 loss: 11.346467971801758\n",
      "Epoch 200 loss: 9.454873085021973\n",
      "Epoch 300 loss: 8.894957542419434\n",
      "Epoch 400 loss: 7.654534816741943\n",
      "Epoch 500 loss: 5.536269664764404\n",
      "Epoch 600 loss: 4.404494762420654\n",
      "Epoch 700 loss: 3.4877700805664062\n",
      "Epoch 800 loss: 2.455198287963867\n",
      "Epoch 900 loss: 1.832618236541748\n",
      "Epoch 1000 loss: 1.3382633924484253\n",
      "Epoch 1100 loss: 1.4623385667800903\n",
      "Epoch 1200 loss: 1.1235336065292358\n",
      "Epoch 1300 loss: 0.77713942527771\n",
      "Epoch 1400 loss: 0.5770329236984253\n",
      "Epoch 1500 loss: 0.4166645109653473\n",
      "Epoch 1600 loss: 0.26890814304351807\n",
      "Epoch 1700 loss: 0.23934027552604675\n",
      "Epoch 1800 loss: 0.23114825785160065\n",
      "Epoch 1900 loss: 0.22884078323841095\n",
      "Epoch 2000 loss: 0.22259724140167236\n",
      "Epoch 2100 loss: 0.21954317390918732\n",
      "Epoch 2200 loss: 0.2172032594680786\n",
      "Epoch 2300 loss: 0.19260358810424805\n",
      "Epoch 2400 loss: 0.18352322280406952\n",
      "Epoch 2500 loss: 0.1566774845123291\n",
      "Epoch 2600 loss: 0.18244563043117523\n",
      "Epoch 2700 loss: 0.2997033894062042\n",
      "Epoch 2800 loss: 0.2522963881492615\n",
      "Epoch 2900 loss: 0.22442401945590973\n",
      "Epoch 3000 loss: 0.21886613965034485\n",
      "Epoch 3100 loss: 0.20326082408428192\n",
      "Epoch 3200 loss: 0.19150762259960175\n",
      "Epoch 3300 loss: 0.1739177703857422\n",
      "Epoch 3400 loss: 0.17752201855182648\n",
      "Epoch 3500 loss: 0.1723306030035019\n",
      "Epoch 3600 loss: 0.1618371456861496\n",
      "Epoch 3700 loss: 0.1591799259185791\n",
      "Epoch 3800 loss: 0.14587873220443726\n",
      "Epoch 3900 loss: 0.12946270406246185\n",
      "Epoch 4000 loss: 0.12974956631660461\n",
      "Epoch 4100 loss: 0.14550796151161194\n",
      "Epoch 4200 loss: 0.12789614498615265\n",
      "Epoch 4300 loss: 0.1321752667427063\n",
      "Epoch 4400 loss: 0.12345611304044724\n",
      "Epoch 4500 loss: 0.11572758853435516\n",
      "Epoch 4600 loss: 0.13488620519638062\n",
      "Epoch 4700 loss: 0.12610791623592377\n",
      "Epoch 4800 loss: 0.09949826449155807\n",
      "Epoch 4900 loss: 0.10170203447341919\n",
      "Epoch 5000 loss: 0.11099105328321457\n"
     ]
    },
    {
     "data": {
      "image/png": "[encoded data removed]",
      "text/plain": [
       "<Figure size 432x288 with 1 Axes>"
      ]
     },
     "metadata": {
      "needs_background": "light"
     },
     "output_type": "display_data"
    }
   ],
   "source": [
    "# 2H model on cubic data\n",
    "model = Linear_2H()\n",
    "y_pred = train(model, epochs=5000, x=x, y=y)\n",
    "plt.scatter(x, y)\n",
    "plt.scatter(x, y_pred)\n",
    "plt.show()"
   ]
  },
  {
   "cell_type": "code",
   "execution_count": null,
   "metadata": {},
   "outputs": [],
   "source": []
  },
  {
   "cell_type": "code",
   "execution_count": null,
   "metadata": {},
   "outputs": [],
   "source": []
  },
  {
   "cell_type": "code",
   "execution_count": null,
   "metadata": {},
   "outputs": [],
   "source": []
  }
 ],
 "metadata": {
  "colab": {
   "collapsed_sections": [],
   "name": "DS-GA-1008-HW_assignment_2_master.ipynb",
   "provenance": [],
   "version": "0.3.2"
  },
  "kernelspec": {
   "display_name": "Python 3",
   "language": "python",
   "name": "python3"
  },
  "language_info": {
   "codemirror_mode": {
    "name": "ipython",
    "version": 3
   },
   "file_extension": ".py",
   "mimetype": "text/x-python",
   "name": "python",
   "nbconvert_exporter": "python",
   "pygments_lexer": "ipython3",
   "version": "3.8.1"
  }
 },
 "nbformat": 4,
 "nbformat_minor": 1
}
